{
  "nbformat": 4,
  "nbformat_minor": 0,
  "metadata": {
    "colab": {
      "provenance": [],
      "mount_file_id": "1xMp03MVgAqkg3RbRGTVdLq8SVPtfC201",
      "authorship_tag": "ABX9TyMRbeJBj2CNYR/c+1u/fYs9",
      "include_colab_link": true
    },
    "kernelspec": {
      "name": "python3",
      "display_name": "Python 3"
    },
    "language_info": {
      "name": "python"
    }
  },
  "cells": [
    {
      "cell_type": "markdown",
      "metadata": {
        "id": "view-in-github",
        "colab_type": "text"
      },
      "source": [
        "<a href=\"https://colab.research.google.com/github/danlamberg/DS_Analise-Monovariada/blob/main/DS_An%C3%A1lise_Monovariada.ipynb\" target=\"_parent\"><img src=\"https://colab.research.google.com/assets/colab-badge.svg\" alt=\"Open In Colab\"/></a>"
      ]
    },
    {
      "cell_type": "markdown",
      "source": [
        "### Avaliação prática - Análise Monovariada"
      ],
      "metadata": {
        "id": "XmQvpuvAP4kK"
      }
    },
    {
      "cell_type": "markdown",
      "source": [
        "Aluno: Daniel de Oliveira Lamberg\n",
        "Professor: Leandro Fabian Almeida Escobar\n",
        "\n",
        "\n",
        "UNIVERSIDADE POSITIVO\n",
        "DATA SCIENCE\n",
        "\n",
        "Atividade avaliativa prática\n",
        "\n",
        "## Parte 1: Análise de Posição e Dispersão\n",
        "1. Calcule a média das vendas ao longo dos 4 anos e discuta como ela representa o valor central das vendas.\n",
        "2. Calcule a mediana das vendas para cada ano e descreva como ela difere da média.\n",
        "3. Calcule a variância e o desvio padrão das vendas de todos os meses. Interprete o significado dessas medidas em relação à dispersão dos dados.\n",
        "4. Determine o mês com a maior venda e o mês com a menor venda. Compare esses valores com a média para identificar os meses atípicos.\n"
      ],
      "metadata": {
        "id": "bT5JJCBFPLQS"
      }
    },
    {
      "cell_type": "markdown",
      "source": [
        "Importando bibiotecas"
      ],
      "metadata": {
        "id": "jl_gCD9ySPGH"
      }
    },
    {
      "cell_type": "code",
      "execution_count": 1,
      "metadata": {
        "id": "oCSFWmpwmWZu"
      },
      "outputs": [],
      "source": [
        "import pandas as pd\n",
        "import numpy as np\n",
        "import matplotlib.pyplot as plt"
      ]
    },
    {
      "cell_type": "markdown",
      "source": [
        "Conectando ao Google Drive"
      ],
      "metadata": {
        "id": "dfmf0wAaSwSU"
      }
    },
    {
      "cell_type": "code",
      "source": [
        "from google.colab import drive\n",
        "drive.mount('/content/drive')"
      ],
      "metadata": {
        "colab": {
          "base_uri": "https://localhost:8080/"
        },
        "id": "i19KfvZxSw7O",
        "outputId": "139bcac1-07c2-4ecb-98a9-717d60313883"
      },
      "execution_count": 2,
      "outputs": [
        {
          "output_type": "stream",
          "name": "stdout",
          "text": [
            "Drive already mounted at /content/drive; to attempt to forcibly remount, call drive.mount(\"/content/drive\", force_remount=True).\n"
          ]
        }
      ]
    },
    {
      "cell_type": "markdown",
      "source": [
        "Conectando ao DataFrame"
      ],
      "metadata": {
        "id": "LXfe4AQaTBPn"
      }
    },
    {
      "cell_type": "code",
      "source": [
        "df = pd.read_csv('/content/drive/MyDrive/BSI/01_DATA SCIENCE/COLAB/ Avaliação prática_Análise Monovariada/Vendas.csv', sep=';', encoding='ISO-8859-1')\n",
        "\n"
      ],
      "metadata": {
        "id": "ysCw9SUqTDDP"
      },
      "execution_count": 3,
      "outputs": []
    },
    {
      "cell_type": "markdown",
      "source": [
        "Exibindo as primeiras linhas do DataFrame"
      ],
      "metadata": {
        "id": "FQWF-slqVFV6"
      }
    },
    {
      "cell_type": "code",
      "source": [
        "df.head()"
      ],
      "metadata": {
        "colab": {
          "base_uri": "https://localhost:8080/",
          "height": 206
        },
        "id": "3Era9_c1VGFF",
        "outputId": "9fde4670-af1c-449e-a6f5-dfefe9a51cfe"
      },
      "execution_count": 4,
      "outputs": [
        {
          "output_type": "execute_result",
          "data": {
            "text/plain": [
              "   Ano       Mês        Vendas (em unidades monetárias)\n",
              "0    2024    Janeiro                               10,5\n",
              "1    2024   Fevereiro                              11,2\n",
              "2    2024    Março                                   12\n",
              "3    2024    Abril                                 13,5\n",
              "4    2024    Maio                                  15,2"
            ],
            "text/html": [
              "\n",
              "  <div id=\"df-c0b79d39-e1b3-48d8-a727-dfe19aee8662\" class=\"colab-df-container\">\n",
              "    <div>\n",
              "<style scoped>\n",
              "    .dataframe tbody tr th:only-of-type {\n",
              "        vertical-align: middle;\n",
              "    }\n",
              "\n",
              "    .dataframe tbody tr th {\n",
              "        vertical-align: top;\n",
              "    }\n",
              "\n",
              "    .dataframe thead th {\n",
              "        text-align: right;\n",
              "    }\n",
              "</style>\n",
              "<table border=\"1\" class=\"dataframe\">\n",
              "  <thead>\n",
              "    <tr style=\"text-align: right;\">\n",
              "      <th></th>\n",
              "      <th>Ano</th>\n",
              "      <th>Mês</th>\n",
              "      <th>Vendas (em unidades monetárias)</th>\n",
              "    </tr>\n",
              "  </thead>\n",
              "  <tbody>\n",
              "    <tr>\n",
              "      <th>0</th>\n",
              "      <td>2024</td>\n",
              "      <td>Janeiro</td>\n",
              "      <td>10,5</td>\n",
              "    </tr>\n",
              "    <tr>\n",
              "      <th>1</th>\n",
              "      <td>2024</td>\n",
              "      <td>Fevereiro</td>\n",
              "      <td>11,2</td>\n",
              "    </tr>\n",
              "    <tr>\n",
              "      <th>2</th>\n",
              "      <td>2024</td>\n",
              "      <td>Março</td>\n",
              "      <td>12</td>\n",
              "    </tr>\n",
              "    <tr>\n",
              "      <th>3</th>\n",
              "      <td>2024</td>\n",
              "      <td>Abril</td>\n",
              "      <td>13,5</td>\n",
              "    </tr>\n",
              "    <tr>\n",
              "      <th>4</th>\n",
              "      <td>2024</td>\n",
              "      <td>Maio</td>\n",
              "      <td>15,2</td>\n",
              "    </tr>\n",
              "  </tbody>\n",
              "</table>\n",
              "</div>\n",
              "    <div class=\"colab-df-buttons\">\n",
              "\n",
              "  <div class=\"colab-df-container\">\n",
              "    <button class=\"colab-df-convert\" onclick=\"convertToInteractive('df-c0b79d39-e1b3-48d8-a727-dfe19aee8662')\"\n",
              "            title=\"Convert this dataframe to an interactive table.\"\n",
              "            style=\"display:none;\">\n",
              "\n",
              "  <svg xmlns=\"http://www.w3.org/2000/svg\" height=\"24px\" viewBox=\"0 -960 960 960\">\n",
              "    <path d=\"M120-120v-720h720v720H120Zm60-500h600v-160H180v160Zm220 220h160v-160H400v160Zm0 220h160v-160H400v160ZM180-400h160v-160H180v160Zm440 0h160v-160H620v160ZM180-180h160v-160H180v160Zm440 0h160v-160H620v160Z\"/>\n",
              "  </svg>\n",
              "    </button>\n",
              "\n",
              "  <style>\n",
              "    .colab-df-container {\n",
              "      display:flex;\n",
              "      gap: 12px;\n",
              "    }\n",
              "\n",
              "    .colab-df-convert {\n",
              "      background-color: #E8F0FE;\n",
              "      border: none;\n",
              "      border-radius: 50%;\n",
              "      cursor: pointer;\n",
              "      display: none;\n",
              "      fill: #1967D2;\n",
              "      height: 32px;\n",
              "      padding: 0 0 0 0;\n",
              "      width: 32px;\n",
              "    }\n",
              "\n",
              "    .colab-df-convert:hover {\n",
              "      background-color: #E2EBFA;\n",
              "      box-shadow: 0px 1px 2px rgba(60, 64, 67, 0.3), 0px 1px 3px 1px rgba(60, 64, 67, 0.15);\n",
              "      fill: #174EA6;\n",
              "    }\n",
              "\n",
              "    .colab-df-buttons div {\n",
              "      margin-bottom: 4px;\n",
              "    }\n",
              "\n",
              "    [theme=dark] .colab-df-convert {\n",
              "      background-color: #3B4455;\n",
              "      fill: #D2E3FC;\n",
              "    }\n",
              "\n",
              "    [theme=dark] .colab-df-convert:hover {\n",
              "      background-color: #434B5C;\n",
              "      box-shadow: 0px 1px 3px 1px rgba(0, 0, 0, 0.15);\n",
              "      filter: drop-shadow(0px 1px 2px rgba(0, 0, 0, 0.3));\n",
              "      fill: #FFFFFF;\n",
              "    }\n",
              "  </style>\n",
              "\n",
              "    <script>\n",
              "      const buttonEl =\n",
              "        document.querySelector('#df-c0b79d39-e1b3-48d8-a727-dfe19aee8662 button.colab-df-convert');\n",
              "      buttonEl.style.display =\n",
              "        google.colab.kernel.accessAllowed ? 'block' : 'none';\n",
              "\n",
              "      async function convertToInteractive(key) {\n",
              "        const element = document.querySelector('#df-c0b79d39-e1b3-48d8-a727-dfe19aee8662');\n",
              "        const dataTable =\n",
              "          await google.colab.kernel.invokeFunction('convertToInteractive',\n",
              "                                                    [key], {});\n",
              "        if (!dataTable) return;\n",
              "\n",
              "        const docLinkHtml = 'Like what you see? Visit the ' +\n",
              "          '<a target=\"_blank\" href=https://colab.research.google.com/notebooks/data_table.ipynb>data table notebook</a>'\n",
              "          + ' to learn more about interactive tables.';\n",
              "        element.innerHTML = '';\n",
              "        dataTable['output_type'] = 'display_data';\n",
              "        await google.colab.output.renderOutput(dataTable, element);\n",
              "        const docLink = document.createElement('div');\n",
              "        docLink.innerHTML = docLinkHtml;\n",
              "        element.appendChild(docLink);\n",
              "      }\n",
              "    </script>\n",
              "  </div>\n",
              "\n",
              "\n",
              "<div id=\"df-7bdd28a9-2408-4cad-b9a3-9899f2be5704\">\n",
              "  <button class=\"colab-df-quickchart\" onclick=\"quickchart('df-7bdd28a9-2408-4cad-b9a3-9899f2be5704')\"\n",
              "            title=\"Suggest charts.\"\n",
              "            style=\"display:none;\">\n",
              "\n",
              "<svg xmlns=\"http://www.w3.org/2000/svg\" height=\"24px\"viewBox=\"0 0 24 24\"\n",
              "     width=\"24px\">\n",
              "    <g>\n",
              "        <path d=\"M19 3H5c-1.1 0-2 .9-2 2v14c0 1.1.9 2 2 2h14c1.1 0 2-.9 2-2V5c0-1.1-.9-2-2-2zM9 17H7v-7h2v7zm4 0h-2V7h2v10zm4 0h-2v-4h2v4z\"/>\n",
              "    </g>\n",
              "</svg>\n",
              "  </button>\n",
              "\n",
              "<style>\n",
              "  .colab-df-quickchart {\n",
              "      --bg-color: #E8F0FE;\n",
              "      --fill-color: #1967D2;\n",
              "      --hover-bg-color: #E2EBFA;\n",
              "      --hover-fill-color: #174EA6;\n",
              "      --disabled-fill-color: #AAA;\n",
              "      --disabled-bg-color: #DDD;\n",
              "  }\n",
              "\n",
              "  [theme=dark] .colab-df-quickchart {\n",
              "      --bg-color: #3B4455;\n",
              "      --fill-color: #D2E3FC;\n",
              "      --hover-bg-color: #434B5C;\n",
              "      --hover-fill-color: #FFFFFF;\n",
              "      --disabled-bg-color: #3B4455;\n",
              "      --disabled-fill-color: #666;\n",
              "  }\n",
              "\n",
              "  .colab-df-quickchart {\n",
              "    background-color: var(--bg-color);\n",
              "    border: none;\n",
              "    border-radius: 50%;\n",
              "    cursor: pointer;\n",
              "    display: none;\n",
              "    fill: var(--fill-color);\n",
              "    height: 32px;\n",
              "    padding: 0;\n",
              "    width: 32px;\n",
              "  }\n",
              "\n",
              "  .colab-df-quickchart:hover {\n",
              "    background-color: var(--hover-bg-color);\n",
              "    box-shadow: 0 1px 2px rgba(60, 64, 67, 0.3), 0 1px 3px 1px rgba(60, 64, 67, 0.15);\n",
              "    fill: var(--button-hover-fill-color);\n",
              "  }\n",
              "\n",
              "  .colab-df-quickchart-complete:disabled,\n",
              "  .colab-df-quickchart-complete:disabled:hover {\n",
              "    background-color: var(--disabled-bg-color);\n",
              "    fill: var(--disabled-fill-color);\n",
              "    box-shadow: none;\n",
              "  }\n",
              "\n",
              "  .colab-df-spinner {\n",
              "    border: 2px solid var(--fill-color);\n",
              "    border-color: transparent;\n",
              "    border-bottom-color: var(--fill-color);\n",
              "    animation:\n",
              "      spin 1s steps(1) infinite;\n",
              "  }\n",
              "\n",
              "  @keyframes spin {\n",
              "    0% {\n",
              "      border-color: transparent;\n",
              "      border-bottom-color: var(--fill-color);\n",
              "      border-left-color: var(--fill-color);\n",
              "    }\n",
              "    20% {\n",
              "      border-color: transparent;\n",
              "      border-left-color: var(--fill-color);\n",
              "      border-top-color: var(--fill-color);\n",
              "    }\n",
              "    30% {\n",
              "      border-color: transparent;\n",
              "      border-left-color: var(--fill-color);\n",
              "      border-top-color: var(--fill-color);\n",
              "      border-right-color: var(--fill-color);\n",
              "    }\n",
              "    40% {\n",
              "      border-color: transparent;\n",
              "      border-right-color: var(--fill-color);\n",
              "      border-top-color: var(--fill-color);\n",
              "    }\n",
              "    60% {\n",
              "      border-color: transparent;\n",
              "      border-right-color: var(--fill-color);\n",
              "    }\n",
              "    80% {\n",
              "      border-color: transparent;\n",
              "      border-right-color: var(--fill-color);\n",
              "      border-bottom-color: var(--fill-color);\n",
              "    }\n",
              "    90% {\n",
              "      border-color: transparent;\n",
              "      border-bottom-color: var(--fill-color);\n",
              "    }\n",
              "  }\n",
              "</style>\n",
              "\n",
              "  <script>\n",
              "    async function quickchart(key) {\n",
              "      const quickchartButtonEl =\n",
              "        document.querySelector('#' + key + ' button');\n",
              "      quickchartButtonEl.disabled = true;  // To prevent multiple clicks.\n",
              "      quickchartButtonEl.classList.add('colab-df-spinner');\n",
              "      try {\n",
              "        const charts = await google.colab.kernel.invokeFunction(\n",
              "            'suggestCharts', [key], {});\n",
              "      } catch (error) {\n",
              "        console.error('Error during call to suggestCharts:', error);\n",
              "      }\n",
              "      quickchartButtonEl.classList.remove('colab-df-spinner');\n",
              "      quickchartButtonEl.classList.add('colab-df-quickchart-complete');\n",
              "    }\n",
              "    (() => {\n",
              "      let quickchartButtonEl =\n",
              "        document.querySelector('#df-7bdd28a9-2408-4cad-b9a3-9899f2be5704 button');\n",
              "      quickchartButtonEl.style.display =\n",
              "        google.colab.kernel.accessAllowed ? 'block' : 'none';\n",
              "    })();\n",
              "  </script>\n",
              "</div>\n",
              "    </div>\n",
              "  </div>\n"
            ]
          },
          "metadata": {},
          "execution_count": 4
        }
      ]
    },
    {
      "cell_type": "markdown",
      "source": [
        "Renomeando a coluna **Vendas (em unidades monetárias)** somente para vendas e removendo espaços"
      ],
      "metadata": {
        "id": "i6HuY509KzQF"
      }
    },
    {
      "cell_type": "code",
      "source": [
        "df.rename(columns=lambda x: x.replace(' (em unidades monetárias)', ''), inplace=True)\n",
        "df.rename(columns=lambda x: x.strip().replace(\" %\", \"\"), inplace=True)\n",
        "df.head()"
      ],
      "metadata": {
        "colab": {
          "base_uri": "https://localhost:8080/",
          "height": 206
        },
        "id": "FwL0zLzvK7Qq",
        "outputId": "1c42f75c-ba49-4e0b-f3db-bd700c627312"
      },
      "execution_count": 5,
      "outputs": [
        {
          "output_type": "execute_result",
          "data": {
            "text/plain": [
              "    Ano          Mês Vendas\n",
              "0  2024    Janeiro     10,5\n",
              "1  2024   Fevereiro    11,2\n",
              "2  2024    Março         12\n",
              "3  2024    Abril       13,5\n",
              "4  2024    Maio        15,2"
            ],
            "text/html": [
              "\n",
              "  <div id=\"df-7bd66a1d-dcad-49f1-b30c-19fc0067c4ef\" class=\"colab-df-container\">\n",
              "    <div>\n",
              "<style scoped>\n",
              "    .dataframe tbody tr th:only-of-type {\n",
              "        vertical-align: middle;\n",
              "    }\n",
              "\n",
              "    .dataframe tbody tr th {\n",
              "        vertical-align: top;\n",
              "    }\n",
              "\n",
              "    .dataframe thead th {\n",
              "        text-align: right;\n",
              "    }\n",
              "</style>\n",
              "<table border=\"1\" class=\"dataframe\">\n",
              "  <thead>\n",
              "    <tr style=\"text-align: right;\">\n",
              "      <th></th>\n",
              "      <th>Ano</th>\n",
              "      <th>Mês</th>\n",
              "      <th>Vendas</th>\n",
              "    </tr>\n",
              "  </thead>\n",
              "  <tbody>\n",
              "    <tr>\n",
              "      <th>0</th>\n",
              "      <td>2024</td>\n",
              "      <td>Janeiro</td>\n",
              "      <td>10,5</td>\n",
              "    </tr>\n",
              "    <tr>\n",
              "      <th>1</th>\n",
              "      <td>2024</td>\n",
              "      <td>Fevereiro</td>\n",
              "      <td>11,2</td>\n",
              "    </tr>\n",
              "    <tr>\n",
              "      <th>2</th>\n",
              "      <td>2024</td>\n",
              "      <td>Março</td>\n",
              "      <td>12</td>\n",
              "    </tr>\n",
              "    <tr>\n",
              "      <th>3</th>\n",
              "      <td>2024</td>\n",
              "      <td>Abril</td>\n",
              "      <td>13,5</td>\n",
              "    </tr>\n",
              "    <tr>\n",
              "      <th>4</th>\n",
              "      <td>2024</td>\n",
              "      <td>Maio</td>\n",
              "      <td>15,2</td>\n",
              "    </tr>\n",
              "  </tbody>\n",
              "</table>\n",
              "</div>\n",
              "    <div class=\"colab-df-buttons\">\n",
              "\n",
              "  <div class=\"colab-df-container\">\n",
              "    <button class=\"colab-df-convert\" onclick=\"convertToInteractive('df-7bd66a1d-dcad-49f1-b30c-19fc0067c4ef')\"\n",
              "            title=\"Convert this dataframe to an interactive table.\"\n",
              "            style=\"display:none;\">\n",
              "\n",
              "  <svg xmlns=\"http://www.w3.org/2000/svg\" height=\"24px\" viewBox=\"0 -960 960 960\">\n",
              "    <path d=\"M120-120v-720h720v720H120Zm60-500h600v-160H180v160Zm220 220h160v-160H400v160Zm0 220h160v-160H400v160ZM180-400h160v-160H180v160Zm440 0h160v-160H620v160ZM180-180h160v-160H180v160Zm440 0h160v-160H620v160Z\"/>\n",
              "  </svg>\n",
              "    </button>\n",
              "\n",
              "  <style>\n",
              "    .colab-df-container {\n",
              "      display:flex;\n",
              "      gap: 12px;\n",
              "    }\n",
              "\n",
              "    .colab-df-convert {\n",
              "      background-color: #E8F0FE;\n",
              "      border: none;\n",
              "      border-radius: 50%;\n",
              "      cursor: pointer;\n",
              "      display: none;\n",
              "      fill: #1967D2;\n",
              "      height: 32px;\n",
              "      padding: 0 0 0 0;\n",
              "      width: 32px;\n",
              "    }\n",
              "\n",
              "    .colab-df-convert:hover {\n",
              "      background-color: #E2EBFA;\n",
              "      box-shadow: 0px 1px 2px rgba(60, 64, 67, 0.3), 0px 1px 3px 1px rgba(60, 64, 67, 0.15);\n",
              "      fill: #174EA6;\n",
              "    }\n",
              "\n",
              "    .colab-df-buttons div {\n",
              "      margin-bottom: 4px;\n",
              "    }\n",
              "\n",
              "    [theme=dark] .colab-df-convert {\n",
              "      background-color: #3B4455;\n",
              "      fill: #D2E3FC;\n",
              "    }\n",
              "\n",
              "    [theme=dark] .colab-df-convert:hover {\n",
              "      background-color: #434B5C;\n",
              "      box-shadow: 0px 1px 3px 1px rgba(0, 0, 0, 0.15);\n",
              "      filter: drop-shadow(0px 1px 2px rgba(0, 0, 0, 0.3));\n",
              "      fill: #FFFFFF;\n",
              "    }\n",
              "  </style>\n",
              "\n",
              "    <script>\n",
              "      const buttonEl =\n",
              "        document.querySelector('#df-7bd66a1d-dcad-49f1-b30c-19fc0067c4ef button.colab-df-convert');\n",
              "      buttonEl.style.display =\n",
              "        google.colab.kernel.accessAllowed ? 'block' : 'none';\n",
              "\n",
              "      async function convertToInteractive(key) {\n",
              "        const element = document.querySelector('#df-7bd66a1d-dcad-49f1-b30c-19fc0067c4ef');\n",
              "        const dataTable =\n",
              "          await google.colab.kernel.invokeFunction('convertToInteractive',\n",
              "                                                    [key], {});\n",
              "        if (!dataTable) return;\n",
              "\n",
              "        const docLinkHtml = 'Like what you see? Visit the ' +\n",
              "          '<a target=\"_blank\" href=https://colab.research.google.com/notebooks/data_table.ipynb>data table notebook</a>'\n",
              "          + ' to learn more about interactive tables.';\n",
              "        element.innerHTML = '';\n",
              "        dataTable['output_type'] = 'display_data';\n",
              "        await google.colab.output.renderOutput(dataTable, element);\n",
              "        const docLink = document.createElement('div');\n",
              "        docLink.innerHTML = docLinkHtml;\n",
              "        element.appendChild(docLink);\n",
              "      }\n",
              "    </script>\n",
              "  </div>\n",
              "\n",
              "\n",
              "<div id=\"df-76e0a68a-03f0-479c-bbb3-6d77d9f45ced\">\n",
              "  <button class=\"colab-df-quickchart\" onclick=\"quickchart('df-76e0a68a-03f0-479c-bbb3-6d77d9f45ced')\"\n",
              "            title=\"Suggest charts.\"\n",
              "            style=\"display:none;\">\n",
              "\n",
              "<svg xmlns=\"http://www.w3.org/2000/svg\" height=\"24px\"viewBox=\"0 0 24 24\"\n",
              "     width=\"24px\">\n",
              "    <g>\n",
              "        <path d=\"M19 3H5c-1.1 0-2 .9-2 2v14c0 1.1.9 2 2 2h14c1.1 0 2-.9 2-2V5c0-1.1-.9-2-2-2zM9 17H7v-7h2v7zm4 0h-2V7h2v10zm4 0h-2v-4h2v4z\"/>\n",
              "    </g>\n",
              "</svg>\n",
              "  </button>\n",
              "\n",
              "<style>\n",
              "  .colab-df-quickchart {\n",
              "      --bg-color: #E8F0FE;\n",
              "      --fill-color: #1967D2;\n",
              "      --hover-bg-color: #E2EBFA;\n",
              "      --hover-fill-color: #174EA6;\n",
              "      --disabled-fill-color: #AAA;\n",
              "      --disabled-bg-color: #DDD;\n",
              "  }\n",
              "\n",
              "  [theme=dark] .colab-df-quickchart {\n",
              "      --bg-color: #3B4455;\n",
              "      --fill-color: #D2E3FC;\n",
              "      --hover-bg-color: #434B5C;\n",
              "      --hover-fill-color: #FFFFFF;\n",
              "      --disabled-bg-color: #3B4455;\n",
              "      --disabled-fill-color: #666;\n",
              "  }\n",
              "\n",
              "  .colab-df-quickchart {\n",
              "    background-color: var(--bg-color);\n",
              "    border: none;\n",
              "    border-radius: 50%;\n",
              "    cursor: pointer;\n",
              "    display: none;\n",
              "    fill: var(--fill-color);\n",
              "    height: 32px;\n",
              "    padding: 0;\n",
              "    width: 32px;\n",
              "  }\n",
              "\n",
              "  .colab-df-quickchart:hover {\n",
              "    background-color: var(--hover-bg-color);\n",
              "    box-shadow: 0 1px 2px rgba(60, 64, 67, 0.3), 0 1px 3px 1px rgba(60, 64, 67, 0.15);\n",
              "    fill: var(--button-hover-fill-color);\n",
              "  }\n",
              "\n",
              "  .colab-df-quickchart-complete:disabled,\n",
              "  .colab-df-quickchart-complete:disabled:hover {\n",
              "    background-color: var(--disabled-bg-color);\n",
              "    fill: var(--disabled-fill-color);\n",
              "    box-shadow: none;\n",
              "  }\n",
              "\n",
              "  .colab-df-spinner {\n",
              "    border: 2px solid var(--fill-color);\n",
              "    border-color: transparent;\n",
              "    border-bottom-color: var(--fill-color);\n",
              "    animation:\n",
              "      spin 1s steps(1) infinite;\n",
              "  }\n",
              "\n",
              "  @keyframes spin {\n",
              "    0% {\n",
              "      border-color: transparent;\n",
              "      border-bottom-color: var(--fill-color);\n",
              "      border-left-color: var(--fill-color);\n",
              "    }\n",
              "    20% {\n",
              "      border-color: transparent;\n",
              "      border-left-color: var(--fill-color);\n",
              "      border-top-color: var(--fill-color);\n",
              "    }\n",
              "    30% {\n",
              "      border-color: transparent;\n",
              "      border-left-color: var(--fill-color);\n",
              "      border-top-color: var(--fill-color);\n",
              "      border-right-color: var(--fill-color);\n",
              "    }\n",
              "    40% {\n",
              "      border-color: transparent;\n",
              "      border-right-color: var(--fill-color);\n",
              "      border-top-color: var(--fill-color);\n",
              "    }\n",
              "    60% {\n",
              "      border-color: transparent;\n",
              "      border-right-color: var(--fill-color);\n",
              "    }\n",
              "    80% {\n",
              "      border-color: transparent;\n",
              "      border-right-color: var(--fill-color);\n",
              "      border-bottom-color: var(--fill-color);\n",
              "    }\n",
              "    90% {\n",
              "      border-color: transparent;\n",
              "      border-bottom-color: var(--fill-color);\n",
              "    }\n",
              "  }\n",
              "</style>\n",
              "\n",
              "  <script>\n",
              "    async function quickchart(key) {\n",
              "      const quickchartButtonEl =\n",
              "        document.querySelector('#' + key + ' button');\n",
              "      quickchartButtonEl.disabled = true;  // To prevent multiple clicks.\n",
              "      quickchartButtonEl.classList.add('colab-df-spinner');\n",
              "      try {\n",
              "        const charts = await google.colab.kernel.invokeFunction(\n",
              "            'suggestCharts', [key], {});\n",
              "      } catch (error) {\n",
              "        console.error('Error during call to suggestCharts:', error);\n",
              "      }\n",
              "      quickchartButtonEl.classList.remove('colab-df-spinner');\n",
              "      quickchartButtonEl.classList.add('colab-df-quickchart-complete');\n",
              "    }\n",
              "    (() => {\n",
              "      let quickchartButtonEl =\n",
              "        document.querySelector('#df-76e0a68a-03f0-479c-bbb3-6d77d9f45ced button');\n",
              "      quickchartButtonEl.style.display =\n",
              "        google.colab.kernel.accessAllowed ? 'block' : 'none';\n",
              "    })();\n",
              "  </script>\n",
              "</div>\n",
              "    </div>\n",
              "  </div>\n"
            ]
          },
          "metadata": {},
          "execution_count": 5
        }
      ]
    },
    {
      "cell_type": "code",
      "source": [
        "df.info()"
      ],
      "metadata": {
        "colab": {
          "base_uri": "https://localhost:8080/"
        },
        "id": "IWr57n_wQeDF",
        "outputId": "c4914d99-2c70-4a48-f503-6ca47ade279e"
      },
      "execution_count": 6,
      "outputs": [
        {
          "output_type": "stream",
          "name": "stdout",
          "text": [
            "<class 'pandas.core.frame.DataFrame'>\n",
            "RangeIndex: 39 entries, 0 to 38\n",
            "Data columns (total 3 columns):\n",
            " #   Column  Non-Null Count  Dtype \n",
            "---  ------  --------------  ----- \n",
            " 0   Ano     39 non-null     int64 \n",
            " 1   Mês     39 non-null     object\n",
            " 2   Vendas  39 non-null     object\n",
            "dtypes: int64(1), object(2)\n",
            "memory usage: 1.0+ KB\n"
          ]
        }
      ]
    },
    {
      "cell_type": "markdown",
      "source": [
        "Substituindo a ',' dos valores das vendas por '.' em float"
      ],
      "metadata": {
        "id": "DKYB646DRuwt"
      }
    },
    {
      "cell_type": "code",
      "source": [
        "df['Vendas'] = df['Vendas'].str.replace(',', '.', regex=True)\n",
        "df.info()"
      ],
      "metadata": {
        "colab": {
          "base_uri": "https://localhost:8080/"
        },
        "id": "iWS5QoMtQgtR",
        "outputId": "8592b8c2-9abc-4dca-f4f0-03fdc440a1f6"
      },
      "execution_count": 7,
      "outputs": [
        {
          "output_type": "stream",
          "name": "stdout",
          "text": [
            "<class 'pandas.core.frame.DataFrame'>\n",
            "RangeIndex: 39 entries, 0 to 38\n",
            "Data columns (total 3 columns):\n",
            " #   Column  Non-Null Count  Dtype \n",
            "---  ------  --------------  ----- \n",
            " 0   Ano     39 non-null     int64 \n",
            " 1   Mês     39 non-null     object\n",
            " 2   Vendas  39 non-null     object\n",
            "dtypes: int64(1), object(2)\n",
            "memory usage: 1.0+ KB\n"
          ]
        }
      ]
    },
    {
      "cell_type": "markdown",
      "source": [
        "Vendas tratadas para float"
      ],
      "metadata": {
        "id": "6L3s-1NySIPE"
      }
    },
    {
      "cell_type": "code",
      "source": [
        "df['Vendas'] = df['Vendas'].str.replace(',', '.').astype(float)\n",
        "df.info()\n"
      ],
      "metadata": {
        "colab": {
          "base_uri": "https://localhost:8080/"
        },
        "id": "EiqRaI_ZXnk4",
        "outputId": "ce64c756-444d-4570-c24e-983ae55f3be1"
      },
      "execution_count": 8,
      "outputs": [
        {
          "output_type": "stream",
          "name": "stdout",
          "text": [
            "<class 'pandas.core.frame.DataFrame'>\n",
            "RangeIndex: 39 entries, 0 to 38\n",
            "Data columns (total 3 columns):\n",
            " #   Column  Non-Null Count  Dtype  \n",
            "---  ------  --------------  -----  \n",
            " 0   Ano     39 non-null     int64  \n",
            " 1   Mês     39 non-null     object \n",
            " 2   Vendas  39 non-null     float64\n",
            "dtypes: float64(1), int64(1), object(1)\n",
            "memory usage: 1.0+ KB\n"
          ]
        }
      ]
    },
    {
      "cell_type": "markdown",
      "source": [
        "*Calcule a média das vendas ao longo dos 4 anos e discuta como ela representa o valor central das vendas.*"
      ],
      "metadata": {
        "id": "aAZHjJ27Xh4L"
      }
    },
    {
      "cell_type": "code",
      "source": [
        "media_vendas = df['Vendas'].mean()\n",
        "print(f\"A média de Vendas é: {media_vendas:.2f}\")"
      ],
      "metadata": {
        "colab": {
          "base_uri": "https://localhost:8080/"
        },
        "id": "gpCys_dCSWlG",
        "outputId": "347a7335-4ead-4fe5-9980-62f765a97f41"
      },
      "execution_count": 9,
      "outputs": [
        {
          "output_type": "stream",
          "name": "stdout",
          "text": [
            "A média de Vendas é: 14.72\n"
          ]
        }
      ]
    },
    {
      "cell_type": "markdown",
      "source": [
        "*Calcule a mediana das vendas para cada ano e descreva como ela difere da média.*"
      ],
      "metadata": {
        "id": "lCq_ZflzTnyU"
      }
    },
    {
      "cell_type": "code",
      "source": [
        "median_por_ano = df.groupby('Ano')['Vendas'].median()\n",
        "print(\"Mediana por ano:\")\n",
        "print(median_por_ano)"
      ],
      "metadata": {
        "colab": {
          "base_uri": "https://localhost:8080/"
        },
        "id": "WTf3LxGiTieA",
        "outputId": "8fa64a91-ef57-46db-d6e6-6c09e359a35b"
      },
      "execution_count": 10,
      "outputs": [
        {
          "output_type": "stream",
          "name": "stdout",
          "text": [
            "Mediana por ano:\n",
            "Ano\n",
            "2024    15.0\n",
            "2025    15.3\n",
            "2026    15.7\n",
            "2027    12.3\n",
            "Name: Vendas, dtype: float64\n"
          ]
        }
      ]
    },
    {
      "cell_type": "markdown",
      "source": [
        "A mediana do ano de 2024 é ligeiramente maior que a média de vendas, indicando que a maioria das vendas em 2024 está próxima da média. A mediana do ano de 2025 é maior que a média das vendas, sugerindo que a maioria das vendas em 2025 está acima da média. A mediana do ano de 2026 é ainda maior que a média de vendas, indicando que a maioria das vendas em 2026 é significativamente superior à média, resultando em uma distribuição assimétrica positiva com vendas concentradas nas faixas mais altas. A mediana de 2027 é consideravelmente menor que a média de vendas. Isso sugere que a maioria das vendas em 2027 é inferior à média, o que resulta em uma distribuição assimétrica negativa com vendas concentradas nas faixas mais baixas."
      ],
      "metadata": {
        "id": "o4qQKXP4u1YF"
      }
    },
    {
      "cell_type": "markdown",
      "source": [
        "*Calcule a variância e o desvio padrão das vendas de todos os meses. Interprete o significado dessas medidas em relação à dispersão dos dados.*"
      ],
      "metadata": {
        "id": "fADvuiWOUkOS"
      }
    },
    {
      "cell_type": "code",
      "source": [
        "variancia_vendas = df['Vendas'].var()\n",
        "desvio_padrao_vendas = df['Vendas'].std()\n",
        "print(f\"Variância das Vendas: {variancia_vendas:.2f}\")\n",
        "print(f\"Desvio Padrão das Vendas: {desvio_padrao_vendas:.2f}\")"
      ],
      "metadata": {
        "colab": {
          "base_uri": "https://localhost:8080/"
        },
        "id": "gaEfLd97Ute5",
        "outputId": "ef828ca7-319b-44cd-a3ea-d7c218b6a73c"
      },
      "execution_count": 11,
      "outputs": [
        {
          "output_type": "stream",
          "name": "stdout",
          "text": [
            "Variância das Vendas: 5.54\n",
            "Desvio Padrão das Vendas: 2.35\n"
          ]
        }
      ]
    },
    {
      "cell_type": "markdown",
      "source": [
        "A variância é uma medida da dispersão dos dados em relação à média. A variância de 5.545 indica que os valores das vendas estão relativamente espalhados em relação à média das vendas. Valores mais altos de variância significam uma dispersão mais ampla dos dados, o que sugere que as vendas podem variar significativamente de mês para mês. Portanto, a variância indica que as vendas podem ser voláteis e imprevisíveis. O desvio padrão é a raiz quadrada da variância e fornece uma medida da dispersão em termos das mesmas unidades dos dados. O desvio padrão de 2.355 indica que os valores das vendas tendem a variar em média cerca de 2.355 unidades em relação à média das vendas. Isso sugere que as vendas têm uma dispersão moderada, e não são excessivamente voláteis, mas ainda exibem alguma variabilidade."
      ],
      "metadata": {
        "id": "JaNkgRZ4u8nr"
      }
    },
    {
      "cell_type": "markdown",
      "source": [
        "*Determine o mês com a maior venda e o mês com a menor venda. Compare esses valores com a média para identificar os meses atípicos.*\n"
      ],
      "metadata": {
        "id": "UBmRCNTWWrDM"
      }
    },
    {
      "cell_type": "code",
      "source": [
        "# Encontrando o mês com a maior venda\n",
        "mes_maior_venda = df[df['Vendas'] == df['Vendas'].max()]\n",
        "mes_maior_venda_descricao = f\"{mes_maior_venda['Mês'].values[0]} de {mes_maior_venda['Ano'].values[0]}\"\n",
        "\n",
        "# Encontrando o mês com a menor venda\n",
        "mes_menor_venda = df[df['Vendas'] == df['Vendas'].min()]\n",
        "mes_menor_venda_descricao = f\"{mes_menor_venda['Mês'].values[0]} de {mes_menor_venda['Ano'].values[0]}\"\n",
        "\n",
        "# Calculando a média das vendas\n",
        "media_vendas = df['Vendas'].mean()\n",
        "\n",
        "print(f\"Mês com a maior venda: {mes_maior_venda_descricao}\")\n",
        "print(f\"Mês com a menor venda: {mes_menor_venda_descricao}\")\n",
        "print(f\"Média de Vendas: {media_vendas:.2f}\")\n",
        "\n",
        "# Identificando os meses atípicos comparando com a média\n",
        "if df['Vendas'].max() > media_vendas:\n",
        "    print(f\"{mes_maior_venda_descricao} é um mês atípico com vendas acima da média.\")\n",
        "if df['Vendas'].min() < media_vendas:\n",
        "    print(f\"{mes_menor_venda_descricao} é um mês atípico com vendas abaixo da média.\")\n"
      ],
      "metadata": {
        "colab": {
          "base_uri": "https://localhost:8080/"
        },
        "id": "IaH7W_88W0F5",
        "outputId": "f11f3a51-e05e-4e1f-ebd5-5c4e16f835a4"
      },
      "execution_count": 12,
      "outputs": [
        {
          "output_type": "stream",
          "name": "stdout",
          "text": [
            "Mês com a maior venda:  Dezembro  de 2026\n",
            "Mês com a menor venda:  Janeiro   de 2024\n",
            "Média de Vendas: 14.72\n",
            " Dezembro  de 2026 é um mês atípico com vendas acima da média.\n",
            " Janeiro   de 2024 é um mês atípico com vendas abaixo da média.\n"
          ]
        }
      ]
    },
    {
      "cell_type": "markdown",
      "source": [
        "# Parte 2: Análise de Quartis\n",
        "1. Divida os dados de vendas em quartis. Identifique os valores que definem cada quartil.\n",
        "2. Calcule os intervalos interquartil (Quadrantes) para as vendas e explique seu significado.\n"
      ],
      "metadata": {
        "id": "6_wz2Y-TRAXl"
      }
    },
    {
      "cell_type": "markdown",
      "source": [
        "*Divida os dados de vendas em quartis. Identifique os valores que definem cada quartil.*"
      ],
      "metadata": {
        "id": "1YOsqRNfaCtT"
      }
    },
    {
      "cell_type": "code",
      "source": [
        "# Calculando os valores dos quartis\n",
        "min_value = df['Vendas'].min()\n",
        "q1 = np.quantile(df['Vendas'], 0.25)\n",
        "q2 = np.quantile(df['Vendas'], 0.50)\n",
        "q3 = np.quantile(df['Vendas'], 0.75)\n",
        "max_value = df['Vendas'].max()\n",
        "\n",
        "# Exibindo os valores que definem cada quartil\n",
        "print(f\"Mínimo de Vendas: {min_value:.2f}\")\n",
        "print(f\"Primeiro Quartil (Q1) de Vendas: {q1:.2f}\")\n",
        "print(f\"Segundo Quartil (Mediana, Q2) de Vendas: {q2:.2f}\")\n",
        "print(f\"Terceiro Quartil (Q3) de Vendas: {q3:.2f}\")\n",
        "print(f\"Máximo de Vendas: {max_value:.2f}\")"
      ],
      "metadata": {
        "colab": {
          "base_uri": "https://localhost:8080/"
        },
        "id": "7FV4AMfMdPe0",
        "outputId": "c519eccb-5137-47fd-9ee7-608afd1d2610"
      },
      "execution_count": null,
      "outputs": [
        {
          "output_type": "stream",
          "name": "stdout",
          "text": [
            "Mínimo de Vendas: 10.50\n",
            "Primeiro Quartil (Q1) de Vendas: 12.55\n",
            "Segundo Quartil (Mediana, Q2) de Vendas: 15.20\n",
            "Terceiro Quartil (Q3) de Vendas: 16.40\n",
            "Máximo de Vendas: 19.00\n"
          ]
        }
      ]
    },
    {
      "cell_type": "markdown",
      "source": [
        "*Calcule os intervalos interquartil (Quadrantes) para as vendas e explique seu significado.*"
      ],
      "metadata": {
        "id": "A_CAv0ffdkVV"
      }
    },
    {
      "cell_type": "code",
      "source": [
        "# Calculando os valores dos quartis\n",
        "q1 = np.quantile(df['Vendas'], 0.25)\n",
        "q3 = np.quantile(df['Vendas'], 0.75)\n",
        "\n",
        "# Calculando o IQR (intervalo interquartil)\n",
        "iqr = q3 - q1\n",
        "\n",
        "print(f\"Primeiro Quartil (Q1) de Vendas: {q1:.2f}\")\n",
        "print(f\"Terceiro Quartil (Q3) de Vendas: {q3:.2f}\")\n",
        "print(f\"IQR (Intervalo Interquartil) de Vendas: {iqr:.2f}\")\n"
      ],
      "metadata": {
        "colab": {
          "base_uri": "https://localhost:8080/"
        },
        "id": "HCigriNJdoxH",
        "outputId": "8776c433-1177-499f-fcf7-0b50ff89e33d"
      },
      "execution_count": null,
      "outputs": [
        {
          "output_type": "stream",
          "name": "stdout",
          "text": [
            "Primeiro Quartil (Q1) de Vendas: 12.55\n",
            "Terceiro Quartil (Q3) de Vendas: 16.40\n",
            "IQR (Intervalo Interquartil) de Vendas: 3.85\n"
          ]
        }
      ]
    },
    {
      "cell_type": "markdown",
      "source": [
        "Intervalo Interquartil (IQR): O IQR é a diferença entre Q3 e Q1. Ele captura a faixa central de 50% dos dados. Ou seja, o IQR representa onde a maioria dos dados está concentrada. O IQR é uma medida de dispersão robusta que desconsidera valores extremos (outliers) e, portanto, é útil para entender a variabilidade dos dados sem ser excessivamente afetado por valores atípicos. Um IQR maior indica uma maior variabilidade dos dados, enquanto um IQR menor indica uma variabilidade menor. O IQR ajuda a identificar a amplitude da distribuição dos dados e, por extensão, a compreender a variabilidade das vendas. Valores atípicos podem estar fora da faixa do IQR."
      ],
      "metadata": {
        "id": "fAKJ3tD5vGoz"
      }
    },
    {
      "cell_type": "markdown",
      "source": [
        "Parte 3: Previsão (Forecasting)\n",
        "1. Use um método de análise de tendência, para criar uma previsão das vendas para o próximo ano (2028) com base nos dados anteriores.\n",
        "2. Determine o erro médio e o erro percentual médio da sua análise de tendência.\n",
        "3. Discuta as limitações do método utilizado e sugira como ele pode ser adotado em um cenário real.\n",
        "4. Baseado na análise de tendência, faça uma previsão das vendas para os próximos cinco anos (2028 a 2032) e explique as suposições subjacentes.\n"
      ],
      "metadata": {
        "id": "YtohT9WFREoy"
      }
    },
    {
      "cell_type": "markdown",
      "source": [
        "*Use um método de análise de tendência, para criar uma previsão das vendas para o próximo ano (2028) com base nos dados anteriores.*"
      ],
      "metadata": {
        "id": "y9pJRzhQfnx-"
      }
    },
    {
      "cell_type": "code",
      "source": [
        "from statsmodels.tsa.holtwinters import ExponentialSmoothing\n",
        "\n",
        "# Criando um modelo de suavização exponencial (Holt-Winters)\n",
        "modelo = ExponentialSmoothing(df['Vendas'], trend='add', seasonal='add', seasonal_periods=12)\n",
        "\n",
        "# Ajustando o modelo aos dados históricos\n",
        "modelo_ajustado = modelo.fit()\n",
        "\n",
        "# Realizadno a previsão para o próximo ano (12 meses à frente)\n",
        "previsao = modelo_ajustado.forecast(steps=12)\n",
        "\n",
        "# Exibindo a previsão\n",
        "print(\"Previsão de Vendas para 2028:\")\n",
        "print(previsao)\n"
      ],
      "metadata": {
        "colab": {
          "base_uri": "https://localhost:8080/"
        },
        "id": "nM1PD3oVfpMC",
        "outputId": "9a8da39c-8acc-4662-b988-5bd818dd1983"
      },
      "execution_count": null,
      "outputs": [
        {
          "output_type": "stream",
          "name": "stdout",
          "text": [
            "Previsão de Vendas para 2028:\n",
            "39    14.554613\n",
            "40    16.354641\n",
            "41    15.821317\n",
            "42    15.654629\n",
            "43    16.487954\n",
            "44    17.187957\n",
            "45    18.221274\n",
            "46    17.554611\n",
            "47    19.254620\n",
            "48    11.943261\n",
            "49    12.668289\n",
            "50    13.493264\n",
            "dtype: float64\n"
          ]
        }
      ]
    },
    {
      "cell_type": "markdown",
      "source": [
        "*Determine o erro médio e o erro percentual médio da sua análise de tendência.*"
      ],
      "metadata": {
        "id": "L5xj9eokhVFx"
      }
    },
    {
      "cell_type": "code",
      "source": [
        "# Criando um modelo de suavização exponencial (Holt-Winters)\n",
        "modelo = ExponentialSmoothing(df['Vendas'], trend='add', seasonal='add', seasonal_periods=12)\n",
        "\n",
        "# Ajustando o modelo aos dados históricos\n",
        "modelo_ajustado = modelo.fit()\n",
        "\n",
        "# FRealziando a previsão para o próximo ano (12 meses à frente)\n",
        "previsao = modelo_ajustado.forecast(steps=12)\n",
        "\n",
        "# Valores reais de vendas para o próximo ano (suponhamos que você tenha esses dados)\n",
        "vendas_reais = [16.0, 17.2, 18.1, 19.0, 20.2, 21.3, 22.0, 23.5, 24.8, 26.0, 27.2, 28.0]\n",
        "\n",
        "# Calculando o erro médio (MAE)\n",
        "mae = np.mean(np.abs(previsao - vendas_reais))\n",
        "\n",
        "# Calculando o erro percentual médio (MAPE)\n",
        "mape = np.mean(np.abs((vendas_reais - previsao) / vendas_reais)) * 100\n",
        "\n",
        "print(f\"Erro Médio (MAE): {mae:.2f}\")\n",
        "print(f\"Erro Percentual Médio (MAPE): {mape:.2f}%\")"
      ],
      "metadata": {
        "colab": {
          "base_uri": "https://localhost:8080/"
        },
        "id": "vIpsBvbFhWs0",
        "outputId": "55ccf496-3000-43d1-e561-5b989e775bcd"
      },
      "execution_count": null,
      "outputs": [
        {
          "output_type": "stream",
          "name": "stdout",
          "text": [
            "Erro Médio (MAE): 6.18\n",
            "Erro Percentual Médio (MAPE): 25.50%\n"
          ]
        }
      ]
    },
    {
      "cell_type": "markdown",
      "source": [
        "*Discuta as limitações do método utilizado e sugira como ele pode ser adotado em um cenário real.*"
      ],
      "metadata": {
        "id": "Pdyp3G6Eh48P"
      }
    },
    {
      "cell_type": "markdown",
      "source": [
        "*Baseado na análise de tendência, faça uma previsão das vendas para os próximos cinco anos (2028 a 2032) e explique as suposições subjacentes.*"
      ],
      "metadata": {
        "id": "QsP0g9X_iHcg"
      }
    },
    {
      "cell_type": "code",
      "source": [
        "from sklearn.linear_model import LinearRegression\n",
        "# Selecionando os dados dos últimos anos para ajustar a tendência.\n",
        "anos_historicos = df['Ano'].tail(5).values.reshape(-1, 1)\n",
        "vendas_historicas = df['Vendas'].tail(5).values\n",
        "\n",
        "# Criando um modelo de regressão linear\n",
        "modelo_tendencia = LinearRegression()\n",
        "\n",
        "# Ajuste o modelo aos dados históricos\n",
        "modelo_tendencia.fit(anos_historicos, vendas_historicas)\n",
        "\n",
        "# Faça a previsão para os próximos anos (2028 a 2032)\n",
        "anos_futuros = np.arange(2028, 2033).reshape(-1, 1)\n",
        "previsao_vendas = modelo_tendencia.predict(anos_futuros)\n",
        "\n",
        "# Crie um DataFrame para armazenar a previsão\n",
        "previsao_df = pd.DataFrame({'Ano': anos_futuros.flatten(), 'Vendas': previsao_vendas})\n",
        "\n",
        "# Exiba a previsão\n",
        "print(\"Previsão de Vendas para 2028 a 2032:\")\n",
        "print(previsao_df)"
      ],
      "metadata": {
        "colab": {
          "base_uri": "https://localhost:8080/"
        },
        "id": "cQVhsy2giDPa",
        "outputId": "c3c63091-c2b3-4a2f-eb3b-d757c8ee957e"
      },
      "execution_count": null,
      "outputs": [
        {
          "output_type": "stream",
          "name": "stdout",
          "text": [
            "Previsão de Vendas para 2028 a 2032:\n",
            "    Ano     Vendas\n",
            "0  2028   6.616667\n",
            "1  2029   0.900000\n",
            "2  2030  -4.816667\n",
            "3  2031 -10.533333\n",
            "4  2032 -16.250000\n"
          ]
        }
      ]
    }
  ]
}